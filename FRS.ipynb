{
  "nbformat": 4,
  "nbformat_minor": 0,
  "metadata": {
    "colab": {
      "provenance": [],
      "authorship_tag": "ABX9TyMN1y0SjFwNnKYrxSl3nNYj",
      "include_colab_link": true
    },
    "kernelspec": {
      "name": "python3",
      "display_name": "Python 3"
    },
    "language_info": {
      "name": "python"
    }
  },
  "cells": [
    {
      "cell_type": "markdown",
      "metadata": {
        "id": "view-in-github",
        "colab_type": "text"
      },
      "source": [
        "<a href=\"https://colab.research.google.com/github/Arvind-Khoda/ML_Project/blob/main/FRS.ipynb\" target=\"_parent\"><img src=\"https://colab.research.google.com/assets/colab-badge.svg\" alt=\"Open In Colab\"/></a>"
      ]
    },
    {
      "cell_type": "code",
      "execution_count": 76,
      "metadata": {
        "id": "II2z0asPEBR9"
      },
      "outputs": [],
      "source": [
        "#Importing Required Libraries\n",
        "import pandas as pd\n",
        "import numpy as np\n"
      ]
    },
    {
      "cell_type": "code",
      "source": [
        "#Importing Dataset\n",
        "data=pd.read_csv('indian_food.csv')\n",
        "Data=data.copy(deep=False)"
      ],
      "metadata": {
        "id": "PqPet3JPGPHt"
      },
      "execution_count": 77,
      "outputs": []
    },
    {
      "cell_type": "code",
      "source": [
        "#Dataset Information\n",
        "data.info()\n",
        "Data.set_index('name',inplace=True)\n"
      ],
      "metadata": {
        "colab": {
          "base_uri": "https://localhost:8080/"
        },
        "id": "HzNeEwnrGWKK",
        "outputId": "d1e7b65f-3dfc-4367-d3a2-d7fc26abc81e"
      },
      "execution_count": 78,
      "outputs": [
        {
          "output_type": "stream",
          "name": "stdout",
          "text": [
            "<class 'pandas.core.frame.DataFrame'>\n",
            "RangeIndex: 255 entries, 0 to 254\n",
            "Data columns (total 9 columns):\n",
            " #   Column          Non-Null Count  Dtype \n",
            "---  ------          --------------  ----- \n",
            " 0   name            255 non-null    object\n",
            " 1   ingredients     255 non-null    object\n",
            " 2   diet            255 non-null    object\n",
            " 3   prep_time       255 non-null    int64 \n",
            " 4   cook_time       255 non-null    int64 \n",
            " 5   flavor_profile  255 non-null    object\n",
            " 6   course          255 non-null    object\n",
            " 7   state           255 non-null    object\n",
            " 8   region          254 non-null    object\n",
            "dtypes: int64(2), object(7)\n",
            "memory usage: 18.1+ KB\n"
          ]
        }
      ]
    },
    {
      "cell_type": "code",
      "source": [
        "#Data Preprocessing\n",
        "from sklearn.preprocessing import LabelEncoder\n",
        "encoder=LabelEncoder()\n",
        "\n",
        "for col in Data.columns: \n",
        "    if (Data[col].dtype!='int64'):\n",
        "       Data[col]=encoder.fit_transform(Data[col])\n",
        "  "
      ],
      "metadata": {
        "id": "mgtA7oqdGaUh"
      },
      "execution_count": 79,
      "outputs": []
    },
    {
      "cell_type": "code",
      "source": [
        "Data"
      ],
      "metadata": {
        "colab": {
          "base_uri": "https://localhost:8080/",
          "height": 455
        },
        "id": "CYIHIqhVSMSM",
        "outputId": "cd888825-3944-4bed-e18d-67f6aafe59ce"
      },
      "execution_count": 80,
      "outputs": [
        {
          "output_type": "execute_result",
          "data": {
            "text/plain": [
              "                ingredients  diet  prep_time  cook_time  flavor_profile  \\\n",
              "name                                                                      \n",
              "Balu shahi              122     1         45         25               4   \n",
              "Boondi                  100     1         80         30               4   \n",
              "Gajar ka halwa           35     1         15         60               4   \n",
              "Ghevar                   95     1         15         30               4   \n",
              "Gulab jamun             129     1         15         40               4   \n",
              "...                     ...   ...        ...        ...             ...   \n",
              "Til Pitha                98     1          5         30               4   \n",
              "Bebinca                  68     1         20         60               4   \n",
              "Shufta                   79     1         -1         -1               4   \n",
              "Mawa Bati               128     1         20         45               4   \n",
              "Pinaca                   31     1         -1         -1               4   \n",
              "\n",
              "                course  state  region  \n",
              "name                                   \n",
              "Balu shahi           0     24       2  \n",
              "Boondi               0     18       6  \n",
              "Gajar ka halwa       0     17       3  \n",
              "Ghevar               0     18       6  \n",
              "Gulab jamun          0     24       2  \n",
              "...                ...    ...     ...  \n",
              "Til Pitha            0      2       4  \n",
              "Bebinca              0      5       6  \n",
              "Shufta               0      8       3  \n",
              "Mawa Bati            0     11       1  \n",
              "Pinaca               0      5       6  \n",
              "\n",
              "[255 rows x 8 columns]"
            ],
            "text/html": [
              "\n",
              "  <div id=\"df-556018a0-451c-419a-b67f-f904bf109977\">\n",
              "    <div class=\"colab-df-container\">\n",
              "      <div>\n",
              "<style scoped>\n",
              "    .dataframe tbody tr th:only-of-type {\n",
              "        vertical-align: middle;\n",
              "    }\n",
              "\n",
              "    .dataframe tbody tr th {\n",
              "        vertical-align: top;\n",
              "    }\n",
              "\n",
              "    .dataframe thead th {\n",
              "        text-align: right;\n",
              "    }\n",
              "</style>\n",
              "<table border=\"1\" class=\"dataframe\">\n",
              "  <thead>\n",
              "    <tr style=\"text-align: right;\">\n",
              "      <th></th>\n",
              "      <th>ingredients</th>\n",
              "      <th>diet</th>\n",
              "      <th>prep_time</th>\n",
              "      <th>cook_time</th>\n",
              "      <th>flavor_profile</th>\n",
              "      <th>course</th>\n",
              "      <th>state</th>\n",
              "      <th>region</th>\n",
              "    </tr>\n",
              "    <tr>\n",
              "      <th>name</th>\n",
              "      <th></th>\n",
              "      <th></th>\n",
              "      <th></th>\n",
              "      <th></th>\n",
              "      <th></th>\n",
              "      <th></th>\n",
              "      <th></th>\n",
              "      <th></th>\n",
              "    </tr>\n",
              "  </thead>\n",
              "  <tbody>\n",
              "    <tr>\n",
              "      <th>Balu shahi</th>\n",
              "      <td>122</td>\n",
              "      <td>1</td>\n",
              "      <td>45</td>\n",
              "      <td>25</td>\n",
              "      <td>4</td>\n",
              "      <td>0</td>\n",
              "      <td>24</td>\n",
              "      <td>2</td>\n",
              "    </tr>\n",
              "    <tr>\n",
              "      <th>Boondi</th>\n",
              "      <td>100</td>\n",
              "      <td>1</td>\n",
              "      <td>80</td>\n",
              "      <td>30</td>\n",
              "      <td>4</td>\n",
              "      <td>0</td>\n",
              "      <td>18</td>\n",
              "      <td>6</td>\n",
              "    </tr>\n",
              "    <tr>\n",
              "      <th>Gajar ka halwa</th>\n",
              "      <td>35</td>\n",
              "      <td>1</td>\n",
              "      <td>15</td>\n",
              "      <td>60</td>\n",
              "      <td>4</td>\n",
              "      <td>0</td>\n",
              "      <td>17</td>\n",
              "      <td>3</td>\n",
              "    </tr>\n",
              "    <tr>\n",
              "      <th>Ghevar</th>\n",
              "      <td>95</td>\n",
              "      <td>1</td>\n",
              "      <td>15</td>\n",
              "      <td>30</td>\n",
              "      <td>4</td>\n",
              "      <td>0</td>\n",
              "      <td>18</td>\n",
              "      <td>6</td>\n",
              "    </tr>\n",
              "    <tr>\n",
              "      <th>Gulab jamun</th>\n",
              "      <td>129</td>\n",
              "      <td>1</td>\n",
              "      <td>15</td>\n",
              "      <td>40</td>\n",
              "      <td>4</td>\n",
              "      <td>0</td>\n",
              "      <td>24</td>\n",
              "      <td>2</td>\n",
              "    </tr>\n",
              "    <tr>\n",
              "      <th>...</th>\n",
              "      <td>...</td>\n",
              "      <td>...</td>\n",
              "      <td>...</td>\n",
              "      <td>...</td>\n",
              "      <td>...</td>\n",
              "      <td>...</td>\n",
              "      <td>...</td>\n",
              "      <td>...</td>\n",
              "    </tr>\n",
              "    <tr>\n",
              "      <th>Til Pitha</th>\n",
              "      <td>98</td>\n",
              "      <td>1</td>\n",
              "      <td>5</td>\n",
              "      <td>30</td>\n",
              "      <td>4</td>\n",
              "      <td>0</td>\n",
              "      <td>2</td>\n",
              "      <td>4</td>\n",
              "    </tr>\n",
              "    <tr>\n",
              "      <th>Bebinca</th>\n",
              "      <td>68</td>\n",
              "      <td>1</td>\n",
              "      <td>20</td>\n",
              "      <td>60</td>\n",
              "      <td>4</td>\n",
              "      <td>0</td>\n",
              "      <td>5</td>\n",
              "      <td>6</td>\n",
              "    </tr>\n",
              "    <tr>\n",
              "      <th>Shufta</th>\n",
              "      <td>79</td>\n",
              "      <td>1</td>\n",
              "      <td>-1</td>\n",
              "      <td>-1</td>\n",
              "      <td>4</td>\n",
              "      <td>0</td>\n",
              "      <td>8</td>\n",
              "      <td>3</td>\n",
              "    </tr>\n",
              "    <tr>\n",
              "      <th>Mawa Bati</th>\n",
              "      <td>128</td>\n",
              "      <td>1</td>\n",
              "      <td>20</td>\n",
              "      <td>45</td>\n",
              "      <td>4</td>\n",
              "      <td>0</td>\n",
              "      <td>11</td>\n",
              "      <td>1</td>\n",
              "    </tr>\n",
              "    <tr>\n",
              "      <th>Pinaca</th>\n",
              "      <td>31</td>\n",
              "      <td>1</td>\n",
              "      <td>-1</td>\n",
              "      <td>-1</td>\n",
              "      <td>4</td>\n",
              "      <td>0</td>\n",
              "      <td>5</td>\n",
              "      <td>6</td>\n",
              "    </tr>\n",
              "  </tbody>\n",
              "</table>\n",
              "<p>255 rows × 8 columns</p>\n",
              "</div>\n",
              "      <button class=\"colab-df-convert\" onclick=\"convertToInteractive('df-556018a0-451c-419a-b67f-f904bf109977')\"\n",
              "              title=\"Convert this dataframe to an interactive table.\"\n",
              "              style=\"display:none;\">\n",
              "        \n",
              "  <svg xmlns=\"http://www.w3.org/2000/svg\" height=\"24px\"viewBox=\"0 0 24 24\"\n",
              "       width=\"24px\">\n",
              "    <path d=\"M0 0h24v24H0V0z\" fill=\"none\"/>\n",
              "    <path d=\"M18.56 5.44l.94 2.06.94-2.06 2.06-.94-2.06-.94-.94-2.06-.94 2.06-2.06.94zm-11 1L8.5 8.5l.94-2.06 2.06-.94-2.06-.94L8.5 2.5l-.94 2.06-2.06.94zm10 10l.94 2.06.94-2.06 2.06-.94-2.06-.94-.94-2.06-.94 2.06-2.06.94z\"/><path d=\"M17.41 7.96l-1.37-1.37c-.4-.4-.92-.59-1.43-.59-.52 0-1.04.2-1.43.59L10.3 9.45l-7.72 7.72c-.78.78-.78 2.05 0 2.83L4 21.41c.39.39.9.59 1.41.59.51 0 1.02-.2 1.41-.59l7.78-7.78 2.81-2.81c.8-.78.8-2.07 0-2.86zM5.41 20L4 18.59l7.72-7.72 1.47 1.35L5.41 20z\"/>\n",
              "  </svg>\n",
              "      </button>\n",
              "      \n",
              "  <style>\n",
              "    .colab-df-container {\n",
              "      display:flex;\n",
              "      flex-wrap:wrap;\n",
              "      gap: 12px;\n",
              "    }\n",
              "\n",
              "    .colab-df-convert {\n",
              "      background-color: #E8F0FE;\n",
              "      border: none;\n",
              "      border-radius: 50%;\n",
              "      cursor: pointer;\n",
              "      display: none;\n",
              "      fill: #1967D2;\n",
              "      height: 32px;\n",
              "      padding: 0 0 0 0;\n",
              "      width: 32px;\n",
              "    }\n",
              "\n",
              "    .colab-df-convert:hover {\n",
              "      background-color: #E2EBFA;\n",
              "      box-shadow: 0px 1px 2px rgba(60, 64, 67, 0.3), 0px 1px 3px 1px rgba(60, 64, 67, 0.15);\n",
              "      fill: #174EA6;\n",
              "    }\n",
              "\n",
              "    [theme=dark] .colab-df-convert {\n",
              "      background-color: #3B4455;\n",
              "      fill: #D2E3FC;\n",
              "    }\n",
              "\n",
              "    [theme=dark] .colab-df-convert:hover {\n",
              "      background-color: #434B5C;\n",
              "      box-shadow: 0px 1px 3px 1px rgba(0, 0, 0, 0.15);\n",
              "      filter: drop-shadow(0px 1px 2px rgba(0, 0, 0, 0.3));\n",
              "      fill: #FFFFFF;\n",
              "    }\n",
              "  </style>\n",
              "\n",
              "      <script>\n",
              "        const buttonEl =\n",
              "          document.querySelector('#df-556018a0-451c-419a-b67f-f904bf109977 button.colab-df-convert');\n",
              "        buttonEl.style.display =\n",
              "          google.colab.kernel.accessAllowed ? 'block' : 'none';\n",
              "\n",
              "        async function convertToInteractive(key) {\n",
              "          const element = document.querySelector('#df-556018a0-451c-419a-b67f-f904bf109977');\n",
              "          const dataTable =\n",
              "            await google.colab.kernel.invokeFunction('convertToInteractive',\n",
              "                                                     [key], {});\n",
              "          if (!dataTable) return;\n",
              "\n",
              "          const docLinkHtml = 'Like what you see? Visit the ' +\n",
              "            '<a target=\"_blank\" href=https://colab.research.google.com/notebooks/data_table.ipynb>data table notebook</a>'\n",
              "            + ' to learn more about interactive tables.';\n",
              "          element.innerHTML = '';\n",
              "          dataTable['output_type'] = 'display_data';\n",
              "          await google.colab.output.renderOutput(dataTable, element);\n",
              "          const docLink = document.createElement('div');\n",
              "          docLink.innerHTML = docLinkHtml;\n",
              "          element.appendChild(docLink);\n",
              "        }\n",
              "      </script>\n",
              "    </div>\n",
              "  </div>\n",
              "  "
            ]
          },
          "metadata": {},
          "execution_count": 80
        }
      ]
    },
    {
      "cell_type": "code",
      "source": [
        "#Building Recommedation System\n",
        "from sklearn.metrics.pairwise import cosine_similarity    \n",
        "similar_score=cosine_similarity(Data)  \n",
        "name,ingredients,diet,prep_time,cook_time,flavor_profile,course,state,region=[],[],[],[],[],[],[],[],[]    "
      ],
      "metadata": {
        "id": "cP9bLac-GoDI"
      },
      "execution_count": 81,
      "outputs": []
    },
    {
      "cell_type": "code",
      "source": [
        "#Function to get similar food item\n",
        "def recommend(dish_name):\n",
        " index=np.where(Data.index==dish_name)[0][0]\n",
        " list_similar=sorted(list(enumerate(similar_score[index])),key=lambda x:x[1],reverse=True)[1:6]\n",
        "\n",
        " for i in list_similar:\n",
        "     name.append(list(data.name[data.name==Data.index[i[0]]]))\n",
        "     ingredients.append(list(data.ingredients[data.name==Data.index[i[0]]]))\n",
        "     diet.append(list(data.diet[data.name==Data.index[i[0]]]))\n",
        "     prep_time.append(list(data.prep_time[data.name==Data.index[i[0]]]))\n",
        "     cook_time.append(list(data.cook_time[data.name==Data.index[i[0]]]))\n",
        "     flavor_profile.append(list(data.flavor_profile[data.name==Data.index[i[0]]]))\n",
        "     course.append(list(data.course[data.name==Data.index[i[0]]]))\n",
        "     state.append(list(data.state[data.name==Data.index[i[0]]]))\n",
        "     region.append(list(data.region[data.name==Data.index[i[0]]]))"
      ],
      "metadata": {
        "id": "BfBuEV3yHHdw"
      },
      "execution_count": 82,
      "outputs": []
    },
    {
      "cell_type": "code",
      "source": [
        "recommend('Gulab jamun')"
      ],
      "metadata": {
        "id": "Z-yze4cnTpMt"
      },
      "execution_count": 85,
      "outputs": []
    },
    {
      "cell_type": "code",
      "source": [
        "similar_data=pd.DataFrame(zip(name,ingredients,diet,prep_time,cook_time,flavor_profile,course,state,region))"
      ],
      "metadata": {
        "id": "LGDi6jR6LtUl"
      },
      "execution_count": 86,
      "outputs": []
    },
    {
      "cell_type": "code",
      "source": [
        "similar_data"
      ],
      "metadata": {
        "colab": {
          "base_uri": "https://localhost:8080/",
          "height": 206
        },
        "id": "U0I2uDLULxFu",
        "outputId": "bdea099b-ae3b-43ca-d296-ada8c1cf8c97"
      },
      "execution_count": 87,
      "outputs": [
        {
          "output_type": "execute_result",
          "data": {
            "text/plain": [
              "                   0                                                  1  \\\n",
              "0            [Rongi]  [Garam masala powder, tomato, kasuri methi, ci...   \n",
              "1            [Kofta]  [Paneer, potato, cream, corn flour, garam masala]   \n",
              "2           [Ghevar]  [Flour, ghee, kewra, milk, clarified butter, s...   \n",
              "3  [Chicken Varuval]  [Meat curry powder, chicken chunks, ginger, to...   \n",
              "4            [Petha]  [Firm white pumpkin, sugar, kitchen lime, alum...   \n",
              "\n",
              "                  2     3     4        5              6                7  \\\n",
              "0      [vegetarian]  [10]  [30]     [-1]  [main course]         [Punjab]   \n",
              "1      [vegetarian]  [20]  [40]  [spicy]  [main course]  [Uttar Pradesh]   \n",
              "2      [vegetarian]  [15]  [30]  [sweet]      [dessert]      [Rajasthan]   \n",
              "3  [non vegetarian]  [10]  [35]  [spicy]  [main course]     [Tamil Nadu]   \n",
              "4      [vegetarian]  [10]  [30]  [sweet]      [dessert]  [Uttar Pradesh]   \n",
              "\n",
              "         8  \n",
              "0  [North]  \n",
              "1  [North]  \n",
              "2   [West]  \n",
              "3  [South]  \n",
              "4  [North]  "
            ],
            "text/html": [
              "\n",
              "  <div id=\"df-a49cce19-e0ac-4a31-9a8a-a0be9b441b06\">\n",
              "    <div class=\"colab-df-container\">\n",
              "      <div>\n",
              "<style scoped>\n",
              "    .dataframe tbody tr th:only-of-type {\n",
              "        vertical-align: middle;\n",
              "    }\n",
              "\n",
              "    .dataframe tbody tr th {\n",
              "        vertical-align: top;\n",
              "    }\n",
              "\n",
              "    .dataframe thead th {\n",
              "        text-align: right;\n",
              "    }\n",
              "</style>\n",
              "<table border=\"1\" class=\"dataframe\">\n",
              "  <thead>\n",
              "    <tr style=\"text-align: right;\">\n",
              "      <th></th>\n",
              "      <th>0</th>\n",
              "      <th>1</th>\n",
              "      <th>2</th>\n",
              "      <th>3</th>\n",
              "      <th>4</th>\n",
              "      <th>5</th>\n",
              "      <th>6</th>\n",
              "      <th>7</th>\n",
              "      <th>8</th>\n",
              "    </tr>\n",
              "  </thead>\n",
              "  <tbody>\n",
              "    <tr>\n",
              "      <th>0</th>\n",
              "      <td>[Rongi]</td>\n",
              "      <td>[Garam masala powder, tomato, kasuri methi, ci...</td>\n",
              "      <td>[vegetarian]</td>\n",
              "      <td>[10]</td>\n",
              "      <td>[30]</td>\n",
              "      <td>[-1]</td>\n",
              "      <td>[main course]</td>\n",
              "      <td>[Punjab]</td>\n",
              "      <td>[North]</td>\n",
              "    </tr>\n",
              "    <tr>\n",
              "      <th>1</th>\n",
              "      <td>[Kofta]</td>\n",
              "      <td>[Paneer, potato, cream, corn flour, garam masala]</td>\n",
              "      <td>[vegetarian]</td>\n",
              "      <td>[20]</td>\n",
              "      <td>[40]</td>\n",
              "      <td>[spicy]</td>\n",
              "      <td>[main course]</td>\n",
              "      <td>[Uttar Pradesh]</td>\n",
              "      <td>[North]</td>\n",
              "    </tr>\n",
              "    <tr>\n",
              "      <th>2</th>\n",
              "      <td>[Ghevar]</td>\n",
              "      <td>[Flour, ghee, kewra, milk, clarified butter, s...</td>\n",
              "      <td>[vegetarian]</td>\n",
              "      <td>[15]</td>\n",
              "      <td>[30]</td>\n",
              "      <td>[sweet]</td>\n",
              "      <td>[dessert]</td>\n",
              "      <td>[Rajasthan]</td>\n",
              "      <td>[West]</td>\n",
              "    </tr>\n",
              "    <tr>\n",
              "      <th>3</th>\n",
              "      <td>[Chicken Varuval]</td>\n",
              "      <td>[Meat curry powder, chicken chunks, ginger, to...</td>\n",
              "      <td>[non vegetarian]</td>\n",
              "      <td>[10]</td>\n",
              "      <td>[35]</td>\n",
              "      <td>[spicy]</td>\n",
              "      <td>[main course]</td>\n",
              "      <td>[Tamil Nadu]</td>\n",
              "      <td>[South]</td>\n",
              "    </tr>\n",
              "    <tr>\n",
              "      <th>4</th>\n",
              "      <td>[Petha]</td>\n",
              "      <td>[Firm white pumpkin, sugar, kitchen lime, alum...</td>\n",
              "      <td>[vegetarian]</td>\n",
              "      <td>[10]</td>\n",
              "      <td>[30]</td>\n",
              "      <td>[sweet]</td>\n",
              "      <td>[dessert]</td>\n",
              "      <td>[Uttar Pradesh]</td>\n",
              "      <td>[North]</td>\n",
              "    </tr>\n",
              "  </tbody>\n",
              "</table>\n",
              "</div>\n",
              "      <button class=\"colab-df-convert\" onclick=\"convertToInteractive('df-a49cce19-e0ac-4a31-9a8a-a0be9b441b06')\"\n",
              "              title=\"Convert this dataframe to an interactive table.\"\n",
              "              style=\"display:none;\">\n",
              "        \n",
              "  <svg xmlns=\"http://www.w3.org/2000/svg\" height=\"24px\"viewBox=\"0 0 24 24\"\n",
              "       width=\"24px\">\n",
              "    <path d=\"M0 0h24v24H0V0z\" fill=\"none\"/>\n",
              "    <path d=\"M18.56 5.44l.94 2.06.94-2.06 2.06-.94-2.06-.94-.94-2.06-.94 2.06-2.06.94zm-11 1L8.5 8.5l.94-2.06 2.06-.94-2.06-.94L8.5 2.5l-.94 2.06-2.06.94zm10 10l.94 2.06.94-2.06 2.06-.94-2.06-.94-.94-2.06-.94 2.06-2.06.94z\"/><path d=\"M17.41 7.96l-1.37-1.37c-.4-.4-.92-.59-1.43-.59-.52 0-1.04.2-1.43.59L10.3 9.45l-7.72 7.72c-.78.78-.78 2.05 0 2.83L4 21.41c.39.39.9.59 1.41.59.51 0 1.02-.2 1.41-.59l7.78-7.78 2.81-2.81c.8-.78.8-2.07 0-2.86zM5.41 20L4 18.59l7.72-7.72 1.47 1.35L5.41 20z\"/>\n",
              "  </svg>\n",
              "      </button>\n",
              "      \n",
              "  <style>\n",
              "    .colab-df-container {\n",
              "      display:flex;\n",
              "      flex-wrap:wrap;\n",
              "      gap: 12px;\n",
              "    }\n",
              "\n",
              "    .colab-df-convert {\n",
              "      background-color: #E8F0FE;\n",
              "      border: none;\n",
              "      border-radius: 50%;\n",
              "      cursor: pointer;\n",
              "      display: none;\n",
              "      fill: #1967D2;\n",
              "      height: 32px;\n",
              "      padding: 0 0 0 0;\n",
              "      width: 32px;\n",
              "    }\n",
              "\n",
              "    .colab-df-convert:hover {\n",
              "      background-color: #E2EBFA;\n",
              "      box-shadow: 0px 1px 2px rgba(60, 64, 67, 0.3), 0px 1px 3px 1px rgba(60, 64, 67, 0.15);\n",
              "      fill: #174EA6;\n",
              "    }\n",
              "\n",
              "    [theme=dark] .colab-df-convert {\n",
              "      background-color: #3B4455;\n",
              "      fill: #D2E3FC;\n",
              "    }\n",
              "\n",
              "    [theme=dark] .colab-df-convert:hover {\n",
              "      background-color: #434B5C;\n",
              "      box-shadow: 0px 1px 3px 1px rgba(0, 0, 0, 0.15);\n",
              "      filter: drop-shadow(0px 1px 2px rgba(0, 0, 0, 0.3));\n",
              "      fill: #FFFFFF;\n",
              "    }\n",
              "  </style>\n",
              "\n",
              "      <script>\n",
              "        const buttonEl =\n",
              "          document.querySelector('#df-a49cce19-e0ac-4a31-9a8a-a0be9b441b06 button.colab-df-convert');\n",
              "        buttonEl.style.display =\n",
              "          google.colab.kernel.accessAllowed ? 'block' : 'none';\n",
              "\n",
              "        async function convertToInteractive(key) {\n",
              "          const element = document.querySelector('#df-a49cce19-e0ac-4a31-9a8a-a0be9b441b06');\n",
              "          const dataTable =\n",
              "            await google.colab.kernel.invokeFunction('convertToInteractive',\n",
              "                                                     [key], {});\n",
              "          if (!dataTable) return;\n",
              "\n",
              "          const docLinkHtml = 'Like what you see? Visit the ' +\n",
              "            '<a target=\"_blank\" href=https://colab.research.google.com/notebooks/data_table.ipynb>data table notebook</a>'\n",
              "            + ' to learn more about interactive tables.';\n",
              "          element.innerHTML = '';\n",
              "          dataTable['output_type'] = 'display_data';\n",
              "          await google.colab.output.renderOutput(dataTable, element);\n",
              "          const docLink = document.createElement('div');\n",
              "          docLink.innerHTML = docLinkHtml;\n",
              "          element.appendChild(docLink);\n",
              "        }\n",
              "      </script>\n",
              "    </div>\n",
              "  </div>\n",
              "  "
            ]
          },
          "metadata": {},
          "execution_count": 87
        }
      ]
    },
    {
      "cell_type": "code",
      "source": [
        "data.columns"
      ],
      "metadata": {
        "colab": {
          "base_uri": "https://localhost:8080/"
        },
        "id": "nc7lgg3iL7Sp",
        "outputId": "5959da6a-28e7-4b72-ee17-ef968e148a8b"
      },
      "execution_count": 62,
      "outputs": [
        {
          "output_type": "execute_result",
          "data": {
            "text/plain": [
              "Index(['name', 'ingredients', 'diet', 'prep_time', 'cook_time',\n",
              "       'flavor_profile', 'course', 'state', 'region'],\n",
              "      dtype='object')"
            ]
          },
          "metadata": {},
          "execution_count": 62
        }
      ]
    },
    {
      "cell_type": "markdown",
      "source": [
        "Recommendation System on the basis of taste,diet,course"
      ],
      "metadata": {
        "id": "UjjMxxKQMNJA"
      }
    },
    {
      "cell_type": "code",
      "source": [
        "TDC=data[['name','course', 'diet','flavor_profile','prep_time', 'cook_time']]\n",
        "TDC.set_index('name',inplace=True)"
      ],
      "metadata": {
        "id": "PEysw0OrMYdV"
      },
      "execution_count": 88,
      "outputs": []
    },
    {
      "cell_type": "code",
      "source": [
        "from numpy.lib.twodim_base import triu_indices\n",
        "from pandas.core.generic import TimedeltaConvertibleTypes\n",
        "#Data Preprocessing\n",
        "for col in TDC.columns:\n",
        "  TDC[col]=encoder.fit_transform(TDC[col])"
      ],
      "metadata": {
        "colab": {
          "base_uri": "https://localhost:8080/"
        },
        "id": "5LLyWGYLMxHZ",
        "outputId": "cd8bb397-554f-4d67-a868-741d29d9e7aa"
      },
      "execution_count": 89,
      "outputs": [
        {
          "output_type": "stream",
          "name": "stderr",
          "text": [
            "<ipython-input-89-b5d3080c2d81>:5: SettingWithCopyWarning: \n",
            "A value is trying to be set on a copy of a slice from a DataFrame.\n",
            "Try using .loc[row_indexer,col_indexer] = value instead\n",
            "\n",
            "See the caveats in the documentation: https://pandas.pydata.org/pandas-docs/stable/user_guide/indexing.html#returning-a-view-versus-a-copy\n",
            "  TDC[col]=encoder.fit_transform(TDC[col])\n"
          ]
        }
      ]
    },
    {
      "cell_type": "code",
      "source": [
        "#Building Recommedation System\n",
        "from sklearn.metrics.pairwise import cosine_similarity    \n",
        "similar_score=cosine_similarity(TDC)  \n",
        "name,diet,prep_time,cook_time,flavor_profile,course=[],[],[],[],[],[]   "
      ],
      "metadata": {
        "id": "DdTTLjHtNOK9"
      },
      "execution_count": 90,
      "outputs": []
    },
    {
      "cell_type": "code",
      "source": [
        "TDC.columns"
      ],
      "metadata": {
        "colab": {
          "base_uri": "https://localhost:8080/"
        },
        "id": "snHdfiwmNTkM",
        "outputId": "21584076-cd16-4f47-9133-f7e4064a64fe"
      },
      "execution_count": 91,
      "outputs": [
        {
          "output_type": "execute_result",
          "data": {
            "text/plain": [
              "Index(['course', 'diet', 'flavor_profile', 'prep_time', 'cook_time'], dtype='object')"
            ]
          },
          "metadata": {},
          "execution_count": 91
        }
      ]
    },
    {
      "cell_type": "code",
      "source": [
        "#Function to get similar food item\n",
        "def recommend(dish_name):\n",
        " name,diet,prep_time,cook_time,flavor_profile,course=[],[],[],[],[],[]\n",
        " index=np.where(Data.index==dish_name)[0][0]\n",
        " list_similar=sorted(list(enumerate(similar_score[index])),key=lambda x:x[1],reverse=True)[1:6]\n",
        "\n",
        " for i in list_similar:\n",
        "     name.append(list(data.name[data.name==Data.index[i[0]]]))\n",
        "     ingredients.append(list(data.ingredients[data.name==Data.index[i[0]]]))\n",
        "     diet.append(list(data.diet[data.name==Data.index[i[0]]]))\n",
        "     prep_time.append(list(data.prep_time[data.name==Data.index[i[0]]]))\n",
        "     cook_time.append(list(data.cook_time[data.name==Data.index[i[0]]]))\n",
        "     flavor_profile.append(list(data.flavor_profile[data.name==Data.index[i[0]]]))\n",
        "     course.append(list(data.course[data.name==Data.index[i[0]]]))\n",
        "\n",
        " return(name,diet,prep_time,cook_time,flavor_profile,course)"
      ],
      "metadata": {
        "id": "4IUdFhrUNyBQ"
      },
      "execution_count": 92,
      "outputs": []
    },
    {
      "cell_type": "code",
      "source": [
        "dish_name=input(\" Enter your dish name\")\n",
        "name,diet,prep_time,cook_time,flavor_profile,course=recommend(dish_name)"
      ],
      "metadata": {
        "colab": {
          "base_uri": "https://localhost:8080/"
        },
        "id": "LbADaE1KOc-a",
        "outputId": "fa39b974-78da-437e-dfca-637a5e625c7b"
      },
      "execution_count": 93,
      "outputs": [
        {
          "name": "stdout",
          "output_type": "stream",
          "text": [
            " Enter your dish nameGulab jamun\n"
          ]
        }
      ]
    },
    {
      "cell_type": "code",
      "source": [
        "similar_data=pd.DataFrame(zip(name,diet,prep_time,cook_time,flavor_profile,course))\n",
        "similar_data"
      ],
      "metadata": {
        "colab": {
          "base_uri": "https://localhost:8080/",
          "height": 206
        },
        "id": "wnMWXmVEODxU",
        "outputId": "f16c59be-530e-4e04-948f-58fed28a29c9"
      },
      "execution_count": 94,
      "outputs": [
        {
          "output_type": "execute_result",
          "data": {
            "text/plain": [
              "                0             1     2     3        4          5\n",
              "0         [Pithe]  [vegetarian]  [15]  [35]  [sweet]  [dessert]\n",
              "1     [Mawa Bati]  [vegetarian]  [20]  [45]  [sweet]  [dessert]\n",
              "2  [Churma Ladoo]  [vegetarian]  [12]  [40]  [sweet]  [dessert]\n",
              "3        [Ghevar]  [vegetarian]  [15]  [30]  [sweet]  [dessert]\n",
              "4      [Mihidana]  [vegetarian]  [15]  [30]  [sweet]  [dessert]"
            ],
            "text/html": [
              "\n",
              "  <div id=\"df-501eccb2-5956-426d-97c8-13ae24598327\">\n",
              "    <div class=\"colab-df-container\">\n",
              "      <div>\n",
              "<style scoped>\n",
              "    .dataframe tbody tr th:only-of-type {\n",
              "        vertical-align: middle;\n",
              "    }\n",
              "\n",
              "    .dataframe tbody tr th {\n",
              "        vertical-align: top;\n",
              "    }\n",
              "\n",
              "    .dataframe thead th {\n",
              "        text-align: right;\n",
              "    }\n",
              "</style>\n",
              "<table border=\"1\" class=\"dataframe\">\n",
              "  <thead>\n",
              "    <tr style=\"text-align: right;\">\n",
              "      <th></th>\n",
              "      <th>0</th>\n",
              "      <th>1</th>\n",
              "      <th>2</th>\n",
              "      <th>3</th>\n",
              "      <th>4</th>\n",
              "      <th>5</th>\n",
              "    </tr>\n",
              "  </thead>\n",
              "  <tbody>\n",
              "    <tr>\n",
              "      <th>0</th>\n",
              "      <td>[Pithe]</td>\n",
              "      <td>[vegetarian]</td>\n",
              "      <td>[15]</td>\n",
              "      <td>[35]</td>\n",
              "      <td>[sweet]</td>\n",
              "      <td>[dessert]</td>\n",
              "    </tr>\n",
              "    <tr>\n",
              "      <th>1</th>\n",
              "      <td>[Mawa Bati]</td>\n",
              "      <td>[vegetarian]</td>\n",
              "      <td>[20]</td>\n",
              "      <td>[45]</td>\n",
              "      <td>[sweet]</td>\n",
              "      <td>[dessert]</td>\n",
              "    </tr>\n",
              "    <tr>\n",
              "      <th>2</th>\n",
              "      <td>[Churma Ladoo]</td>\n",
              "      <td>[vegetarian]</td>\n",
              "      <td>[12]</td>\n",
              "      <td>[40]</td>\n",
              "      <td>[sweet]</td>\n",
              "      <td>[dessert]</td>\n",
              "    </tr>\n",
              "    <tr>\n",
              "      <th>3</th>\n",
              "      <td>[Ghevar]</td>\n",
              "      <td>[vegetarian]</td>\n",
              "      <td>[15]</td>\n",
              "      <td>[30]</td>\n",
              "      <td>[sweet]</td>\n",
              "      <td>[dessert]</td>\n",
              "    </tr>\n",
              "    <tr>\n",
              "      <th>4</th>\n",
              "      <td>[Mihidana]</td>\n",
              "      <td>[vegetarian]</td>\n",
              "      <td>[15]</td>\n",
              "      <td>[30]</td>\n",
              "      <td>[sweet]</td>\n",
              "      <td>[dessert]</td>\n",
              "    </tr>\n",
              "  </tbody>\n",
              "</table>\n",
              "</div>\n",
              "      <button class=\"colab-df-convert\" onclick=\"convertToInteractive('df-501eccb2-5956-426d-97c8-13ae24598327')\"\n",
              "              title=\"Convert this dataframe to an interactive table.\"\n",
              "              style=\"display:none;\">\n",
              "        \n",
              "  <svg xmlns=\"http://www.w3.org/2000/svg\" height=\"24px\"viewBox=\"0 0 24 24\"\n",
              "       width=\"24px\">\n",
              "    <path d=\"M0 0h24v24H0V0z\" fill=\"none\"/>\n",
              "    <path d=\"M18.56 5.44l.94 2.06.94-2.06 2.06-.94-2.06-.94-.94-2.06-.94 2.06-2.06.94zm-11 1L8.5 8.5l.94-2.06 2.06-.94-2.06-.94L8.5 2.5l-.94 2.06-2.06.94zm10 10l.94 2.06.94-2.06 2.06-.94-2.06-.94-.94-2.06-.94 2.06-2.06.94z\"/><path d=\"M17.41 7.96l-1.37-1.37c-.4-.4-.92-.59-1.43-.59-.52 0-1.04.2-1.43.59L10.3 9.45l-7.72 7.72c-.78.78-.78 2.05 0 2.83L4 21.41c.39.39.9.59 1.41.59.51 0 1.02-.2 1.41-.59l7.78-7.78 2.81-2.81c.8-.78.8-2.07 0-2.86zM5.41 20L4 18.59l7.72-7.72 1.47 1.35L5.41 20z\"/>\n",
              "  </svg>\n",
              "      </button>\n",
              "      \n",
              "  <style>\n",
              "    .colab-df-container {\n",
              "      display:flex;\n",
              "      flex-wrap:wrap;\n",
              "      gap: 12px;\n",
              "    }\n",
              "\n",
              "    .colab-df-convert {\n",
              "      background-color: #E8F0FE;\n",
              "      border: none;\n",
              "      border-radius: 50%;\n",
              "      cursor: pointer;\n",
              "      display: none;\n",
              "      fill: #1967D2;\n",
              "      height: 32px;\n",
              "      padding: 0 0 0 0;\n",
              "      width: 32px;\n",
              "    }\n",
              "\n",
              "    .colab-df-convert:hover {\n",
              "      background-color: #E2EBFA;\n",
              "      box-shadow: 0px 1px 2px rgba(60, 64, 67, 0.3), 0px 1px 3px 1px rgba(60, 64, 67, 0.15);\n",
              "      fill: #174EA6;\n",
              "    }\n",
              "\n",
              "    [theme=dark] .colab-df-convert {\n",
              "      background-color: #3B4455;\n",
              "      fill: #D2E3FC;\n",
              "    }\n",
              "\n",
              "    [theme=dark] .colab-df-convert:hover {\n",
              "      background-color: #434B5C;\n",
              "      box-shadow: 0px 1px 3px 1px rgba(0, 0, 0, 0.15);\n",
              "      filter: drop-shadow(0px 1px 2px rgba(0, 0, 0, 0.3));\n",
              "      fill: #FFFFFF;\n",
              "    }\n",
              "  </style>\n",
              "\n",
              "      <script>\n",
              "        const buttonEl =\n",
              "          document.querySelector('#df-501eccb2-5956-426d-97c8-13ae24598327 button.colab-df-convert');\n",
              "        buttonEl.style.display =\n",
              "          google.colab.kernel.accessAllowed ? 'block' : 'none';\n",
              "\n",
              "        async function convertToInteractive(key) {\n",
              "          const element = document.querySelector('#df-501eccb2-5956-426d-97c8-13ae24598327');\n",
              "          const dataTable =\n",
              "            await google.colab.kernel.invokeFunction('convertToInteractive',\n",
              "                                                     [key], {});\n",
              "          if (!dataTable) return;\n",
              "\n",
              "          const docLinkHtml = 'Like what you see? Visit the ' +\n",
              "            '<a target=\"_blank\" href=https://colab.research.google.com/notebooks/data_table.ipynb>data table notebook</a>'\n",
              "            + ' to learn more about interactive tables.';\n",
              "          element.innerHTML = '';\n",
              "          dataTable['output_type'] = 'display_data';\n",
              "          await google.colab.output.renderOutput(dataTable, element);\n",
              "          const docLink = document.createElement('div');\n",
              "          docLink.innerHTML = docLinkHtml;\n",
              "          element.appendChild(docLink);\n",
              "        }\n",
              "      </script>\n",
              "    </div>\n",
              "  </div>\n",
              "  "
            ]
          },
          "metadata": {},
          "execution_count": 94
        }
      ]
    },
    {
      "cell_type": "code",
      "source": [],
      "metadata": {
        "id": "PSRai37cORIg"
      },
      "execution_count": 69,
      "outputs": []
    },
    {
      "cell_type": "markdown",
      "source": [],
      "metadata": {
        "id": "APW7TseEORjH"
      }
    }
  ]
}